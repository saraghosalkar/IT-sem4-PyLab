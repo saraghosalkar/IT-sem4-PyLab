{
 "cells": [
  {
   "cell_type": "markdown",
   "id": "3fd1cc16",
   "metadata": {},
   "source": [
    "ARRAYs IN PYTHON"
   ]
  },
  {
   "cell_type": "code",
   "execution_count": 2,
   "id": "ed2c912e",
   "metadata": {},
   "outputs": [],
   "source": [
    "#importing the array package\n",
    "import array as a"
   ]
  },
  {
   "cell_type": "code",
   "execution_count": 3,
   "id": "bc913313",
   "metadata": {},
   "outputs": [],
   "source": [
    "#initialising the array\n",
    "a1 = a.array('i',[1,2,3])"
   ]
  },
  {
   "cell_type": "code",
   "execution_count": 4,
   "id": "e41aeafd",
   "metadata": {},
   "outputs": [
    {
     "data": {
      "text/plain": [
       "array('i', [1, 2, 3])"
      ]
     },
     "execution_count": 4,
     "metadata": {},
     "output_type": "execute_result"
    }
   ],
   "source": [
    "#printing the array\n",
    "a1"
   ]
  },
  {
   "cell_type": "code",
   "execution_count": 10,
   "id": "6a27a76a",
   "metadata": {},
   "outputs": [
    {
     "name": "stdout",
     "output_type": "stream",
     "text": [
      "1\n",
      "2\n",
      "3\n"
     ]
    }
   ],
   "source": [
    "#printing the array using for loop\n",
    "for i in range (0, 3):\n",
    "    print (a1[i])"
   ]
  },
  {
   "cell_type": "code",
   "execution_count": 8,
   "id": "1008c7da",
   "metadata": {},
   "outputs": [
    {
     "data": {
      "text/plain": [
       "array('d', [2.5, 3.2, 3.3])"
      ]
     },
     "execution_count": 8,
     "metadata": {},
     "output_type": "execute_result"
    }
   ],
   "source": [
    "#initialising the array (FLOAT == 'd')\n",
    "b = a.array('d', [2.5, 3.2, 3.3])\n",
    "b"
   ]
  },
  {
   "cell_type": "code",
   "execution_count": 11,
   "id": "2fbf505f",
   "metadata": {},
   "outputs": [
    {
     "name": "stdout",
     "output_type": "stream",
     "text": [
      "2.5\n",
      "3.2\n",
      "3.3\n"
     ]
    }
   ],
   "source": [
    "#printing the array using for loop\n",
    "for i in range (0, 3):\n",
    "    print (b[i])"
   ]
  },
  {
   "cell_type": "code",
   "execution_count": 12,
   "id": "98f8a8ea",
   "metadata": {},
   "outputs": [
    {
     "data": {
      "text/plain": [
       "array('i', [1, 2, 3, 4])"
      ]
     },
     "execution_count": 12,
     "metadata": {},
     "output_type": "execute_result"
    }
   ],
   "source": [
    "#inserting an element at index 3\n",
    "a1.insert(3, 4)\n",
    "a1"
   ]
  },
  {
   "cell_type": "code",
   "execution_count": 18,
   "id": "8f6d5598",
   "metadata": {},
   "outputs": [],
   "source": [
    "#inserting an element at index 3\n",
    "b.insert(3,4.1)"
   ]
  },
  {
   "cell_type": "code",
   "execution_count": 19,
   "id": "69dedfe6",
   "metadata": {},
   "outputs": [
    {
     "data": {
      "text/plain": [
       "array('d', [2.5, 3.2, 3.3, 4.1])"
      ]
     },
     "execution_count": 19,
     "metadata": {},
     "output_type": "execute_result"
    }
   ],
   "source": [
    "#print array\n",
    "b"
   ]
  },
  {
   "cell_type": "code",
   "execution_count": 20,
   "id": "5552f16c",
   "metadata": {},
   "outputs": [
    {
     "data": {
      "text/plain": [
       "array('i', [1, 2, 4])"
      ]
     },
     "execution_count": 20,
     "metadata": {},
     "output_type": "execute_result"
    }
   ],
   "source": [
    "#removing '3' removes an element 3, not the element at index 3\n",
    "a1.remove(3)\n",
    "a1"
   ]
  },
  {
   "cell_type": "code",
   "execution_count": 21,
   "id": "902b7b1f",
   "metadata": {},
   "outputs": [
    {
     "data": {
      "text/plain": [
       "array('d', [2.5, 3.2, 4.1])"
      ]
     },
     "execution_count": 21,
     "metadata": {},
     "output_type": "execute_result"
    }
   ],
   "source": [
    "#removing 3.3\n",
    "b.remove(3.3)\n",
    "b"
   ]
  },
  {
   "cell_type": "code",
   "execution_count": 39,
   "id": "eaa91c18",
   "metadata": {},
   "outputs": [
    {
     "data": {
      "text/plain": [
       "array('d', [2.5, 3.2])"
      ]
     },
     "execution_count": 39,
     "metadata": {},
     "output_type": "execute_result"
    }
   ],
   "source": [
    "#popping an element at index 2\n",
    "b.pop(2)\n",
    "b"
   ]
  },
  {
   "cell_type": "code",
   "execution_count": 22,
   "id": "ab2926cb",
   "metadata": {},
   "outputs": [
    {
     "data": {
      "text/plain": [
       "[1, 2, 3, 4, 5, 6, 7, 8, 9, 10]"
      ]
     },
     "execution_count": 22,
     "metadata": {},
     "output_type": "execute_result"
    }
   ],
   "source": [
    "#initialisation of list\n",
    "list1 = [1,2,3,4,5,6,7,8,9,10]\n",
    "list1"
   ]
  },
  {
   "cell_type": "code",
   "execution_count": 25,
   "id": "79d59d24",
   "metadata": {},
   "outputs": [
    {
     "data": {
      "text/plain": [
       "array('i', [1, 2, 3, 4, 5, 6, 7, 8, 9, 10])"
      ]
     },
     "execution_count": 25,
     "metadata": {},
     "output_type": "execute_result"
    }
   ],
   "source": [
    "#converting list to an array\n",
    "c = a.array('i', list1)\n",
    "c"
   ]
  },
  {
   "cell_type": "code",
   "execution_count": 27,
   "id": "32162e0a",
   "metadata": {},
   "outputs": [
    {
     "data": {
      "text/plain": [
       "array('i', [4, 5, 6, 7, 8])"
      ]
     },
     "execution_count": 27,
     "metadata": {},
     "output_type": "execute_result"
    }
   ],
   "source": [
    "#slicing an array pt. 1\n",
    "sliced_c = c[3:8]\n",
    "sliced_c"
   ]
  },
  {
   "cell_type": "code",
   "execution_count": 29,
   "id": "bcb6800e",
   "metadata": {},
   "outputs": [
    {
     "data": {
      "text/plain": [
       "array('i', [6, 7, 8, 9, 10])"
      ]
     },
     "execution_count": 29,
     "metadata": {},
     "output_type": "execute_result"
    }
   ],
   "source": [
    "#slicing an array pt. 2\n",
    "sliced_c_1 = c[5:]\n",
    "sliced_c_1"
   ]
  },
  {
   "cell_type": "code",
   "execution_count": 30,
   "id": "cd708364",
   "metadata": {},
   "outputs": [
    {
     "data": {
      "text/plain": [
       "array('i', [1, 4, 9, 16, 25, 25, 25, 4, 9])"
      ]
     },
     "execution_count": 30,
     "metadata": {},
     "output_type": "execute_result"
    }
   ],
   "source": [
    "#making a list\n",
    "#converting list to an array\n",
    "d = [1,4,9,16,25,25,25,4,9]\n",
    "d1 = a.array('i', d)\n",
    "d1"
   ]
  },
  {
   "cell_type": "code",
   "execution_count": 32,
   "id": "0c7ef0d2",
   "metadata": {},
   "outputs": [
    {
     "ename": "ValueError",
     "evalue": "array.index(x): x not in array",
     "output_type": "error",
     "traceback": [
      "\u001b[0;31m---------------------------------------------------------------------------\u001b[0m",
      "\u001b[0;31mValueError\u001b[0m                                Traceback (most recent call last)",
      "Input \u001b[0;32mIn [32]\u001b[0m, in \u001b[0;36m<module>\u001b[0;34m\u001b[0m\n\u001b[0;32m----> 1\u001b[0m \u001b[43md1\u001b[49m\u001b[38;5;241;43m.\u001b[39;49m\u001b[43mindex\u001b[49m\u001b[43m(\u001b[49m\u001b[38;5;241;43m2\u001b[39;49m\u001b[43m)\u001b[49m\n",
      "\u001b[0;31mValueError\u001b[0m: array.index(x): x not in array"
     ]
    }
   ],
   "source": [
    "#searching for 2 \n",
    "#didn't find\n",
    "#error is made\n",
    "d1.index(2)"
   ]
  },
  {
   "cell_type": "code",
   "execution_count": 33,
   "id": "341284e7",
   "metadata": {},
   "outputs": [
    {
     "data": {
      "text/plain": [
       "4"
      ]
     },
     "execution_count": 33,
     "metadata": {},
     "output_type": "execute_result"
    }
   ],
   "source": [
    "#searching for 25\n",
    "#first found at index 4\n",
    "d1.index(25)"
   ]
  },
  {
   "cell_type": "code",
   "execution_count": 34,
   "id": "3e1ab485",
   "metadata": {},
   "outputs": [
    {
     "data": {
      "text/plain": [
       "array('i', [1, 2, 3, 1000, 5, 6, 7, 8, 9, 10])"
      ]
     },
     "execution_count": 34,
     "metadata": {},
     "output_type": "execute_result"
    }
   ],
   "source": [
    "#updating element at index 3\n",
    "c[3] = 1000\n",
    "c"
   ]
  },
  {
   "cell_type": "code",
   "execution_count": 38,
   "id": "cfc035dc",
   "metadata": {},
   "outputs": [
    {
     "data": {
      "text/plain": [
       "array([ 1,  4,  4,  9,  9, 16, 25, 25, 25], dtype=int32)"
      ]
     },
     "execution_count": 38,
     "metadata": {},
     "output_type": "execute_result"
    }
   ],
   "source": [
    "#sorting array using numpy\n",
    "import numpy as np\n",
    "np.sort(d1)"
   ]
  },
  {
   "cell_type": "code",
   "execution_count": 36,
   "id": "593e7ca8",
   "metadata": {},
   "outputs": [
    {
     "data": {
      "text/plain": [
       "[1, 4, 4, 9, 9, 16, 25, 25, 25]"
      ]
     },
     "execution_count": 36,
     "metadata": {},
     "output_type": "execute_result"
    }
   ],
   "source": [
    "#sorting the list\n",
    "d.sort()\n",
    "d"
   ]
  },
  {
   "cell_type": "code",
   "execution_count": 37,
   "id": "182babbc",
   "metadata": {},
   "outputs": [
    {
     "data": {
      "text/plain": [
       "[25, 25, 25, 16, 9, 9, 4, 4, 1]"
      ]
     },
     "execution_count": 37,
     "metadata": {},
     "output_type": "execute_result"
    }
   ],
   "source": [
    "#sorting the list in descending order\n",
    "d.sort(reverse=True)\n",
    "d"
   ]
  },
  {
   "cell_type": "code",
   "execution_count": 43,
   "id": "3c35c992",
   "metadata": {},
   "outputs": [
    {
     "data": {
      "text/plain": [
       "[1000, 10, 9, 8, 7, 6, 5, 3, 2, 1]"
      ]
     },
     "execution_count": 43,
     "metadata": {},
     "output_type": "execute_result"
    }
   ],
   "source": [
    "#reverse sorting an array\n",
    "sorted(c,reverse=True)"
   ]
  },
  {
   "cell_type": "code",
   "execution_count": null,
   "id": "960f6efa",
   "metadata": {},
   "outputs": [],
   "source": []
  }
 ],
 "metadata": {
  "kernelspec": {
   "display_name": "Python 3 (ipykernel)",
   "language": "python",
   "name": "python3"
  },
  "language_info": {
   "codemirror_mode": {
    "name": "ipython",
    "version": 3
   },
   "file_extension": ".py",
   "mimetype": "text/x-python",
   "name": "python",
   "nbconvert_exporter": "python",
   "pygments_lexer": "ipython3",
   "version": "3.9.10"
  }
 },
 "nbformat": 4,
 "nbformat_minor": 5
}
