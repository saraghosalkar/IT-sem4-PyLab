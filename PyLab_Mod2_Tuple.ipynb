{
 "cells": [
  {
   "cell_type": "code",
   "execution_count": 1,
   "id": "906e5cb5",
   "metadata": {},
   "outputs": [],
   "source": [
    "a = (1,2,3,4)"
   ]
  },
  {
   "cell_type": "code",
   "execution_count": 2,
   "id": "21d605a8",
   "metadata": {},
   "outputs": [
    {
     "data": {
      "text/plain": [
       "tuple"
      ]
     },
     "execution_count": 2,
     "metadata": {},
     "output_type": "execute_result"
    }
   ],
   "source": [
    "type(a)"
   ]
  },
  {
   "cell_type": "code",
   "execution_count": 3,
   "id": "32ad00ac",
   "metadata": {},
   "outputs": [],
   "source": [
    "b = (7,8,9)"
   ]
  },
  {
   "cell_type": "code",
   "execution_count": 4,
   "id": "ea722e66",
   "metadata": {},
   "outputs": [
    {
     "data": {
      "text/plain": [
       "4"
      ]
     },
     "execution_count": 4,
     "metadata": {},
     "output_type": "execute_result"
    }
   ],
   "source": [
    "len(a)"
   ]
  },
  {
   "cell_type": "code",
   "execution_count": 5,
   "id": "7ec9bdb6",
   "metadata": {},
   "outputs": [
    {
     "data": {
      "text/plain": [
       "3"
      ]
     },
     "execution_count": 5,
     "metadata": {},
     "output_type": "execute_result"
    }
   ],
   "source": [
    "len(b)"
   ]
  },
  {
   "cell_type": "code",
   "execution_count": 6,
   "id": "cc001ff2",
   "metadata": {},
   "outputs": [
    {
     "ename": "AttributeError",
     "evalue": "'tuple' object has no attribute 'append'",
     "output_type": "error",
     "traceback": [
      "\u001b[0;31m---------------------------------------------------------------------------\u001b[0m",
      "\u001b[0;31mAttributeError\u001b[0m                            Traceback (most recent call last)",
      "Input \u001b[0;32mIn [6]\u001b[0m, in \u001b[0;36m<module>\u001b[0;34m\u001b[0m\n\u001b[0;32m----> 1\u001b[0m \u001b[43ma\u001b[49m\u001b[38;5;241;43m.\u001b[39;49m\u001b[43mappend\u001b[49m(\u001b[38;5;241m100\u001b[39m)\n",
      "\u001b[0;31mAttributeError\u001b[0m: 'tuple' object has no attribute 'append'"
     ]
    }
   ],
   "source": [
    "a.append(100)"
   ]
  },
  {
   "cell_type": "code",
   "execution_count": null,
   "id": "907459e1",
   "metadata": {},
   "outputs": [],
   "source": [
    "#concatenation\n",
    "c = a + b"
   ]
  },
  {
   "cell_type": "code",
   "execution_count": null,
   "id": "f41e69f3",
   "metadata": {},
   "outputs": [],
   "source": [
    "c"
   ]
  },
  {
   "cell_type": "code",
   "execution_count": null,
   "id": "40908f04",
   "metadata": {},
   "outputs": [],
   "source": [
    "#repetition\n",
    "c = a*2\n",
    "c"
   ]
  },
  {
   "cell_type": "code",
   "execution_count": null,
   "id": "f932cb36",
   "metadata": {},
   "outputs": [],
   "source": [
    "#repetition\n",
    "c = a*4\n",
    "c"
   ]
  },
  {
   "cell_type": "code",
   "execution_count": null,
   "id": "27f91625",
   "metadata": {},
   "outputs": [],
   "source": [
    "#accessing values\n",
    "a.index(3)"
   ]
  },
  {
   "cell_type": "code",
   "execution_count": null,
   "id": "59d08b69",
   "metadata": {},
   "outputs": [],
   "source": [
    "b = (11,12,13)"
   ]
  },
  {
   "cell_type": "code",
   "execution_count": null,
   "id": "abda7d94",
   "metadata": {},
   "outputs": [],
   "source": [
    "b"
   ]
  },
  {
   "cell_type": "code",
   "execution_count": null,
   "id": "f6215f50",
   "metadata": {},
   "outputs": [],
   "source": [
    "a+b"
   ]
  },
  {
   "cell_type": "code",
   "execution_count": 8,
   "id": "70c14864",
   "metadata": {},
   "outputs": [],
   "source": [
    "a = \"sara\",\"kavya\",\"rajiv\",\"manisha\""
   ]
  },
  {
   "cell_type": "code",
   "execution_count": 9,
   "id": "39687ab2",
   "metadata": {},
   "outputs": [
    {
     "data": {
      "text/plain": [
       "tuple"
      ]
     },
     "execution_count": 9,
     "metadata": {},
     "output_type": "execute_result"
    }
   ],
   "source": [
    "type(a)"
   ]
  },
  {
   "cell_type": "code",
   "execution_count": 10,
   "id": "cb99195d",
   "metadata": {},
   "outputs": [
    {
     "name": "stdout",
     "output_type": "stream",
     "text": [
      "('sara', 'kavya')\n"
     ]
    }
   ],
   "source": [
    "#accessing values\n",
    "print(a[0:2])"
   ]
  },
  {
   "cell_type": "code",
   "execution_count": 11,
   "id": "d255a5b2",
   "metadata": {},
   "outputs": [
    {
     "data": {
      "text/plain": [
       "('sara', 'kavya')"
      ]
     },
     "execution_count": 11,
     "metadata": {},
     "output_type": "execute_result"
    }
   ],
   "source": [
    "#accessing values\n",
    "a[0:2]"
   ]
  },
  {
   "cell_type": "code",
   "execution_count": 12,
   "id": "8244e731",
   "metadata": {},
   "outputs": [
    {
     "data": {
      "text/plain": [
       "('sara', 'kavya', 'rajiv', 'manisha')"
      ]
     },
     "execution_count": 12,
     "metadata": {},
     "output_type": "execute_result"
    }
   ],
   "source": [
    "#accessing values\n",
    "a[:]"
   ]
  },
  {
   "cell_type": "code",
   "execution_count": 13,
   "id": "002a05a0",
   "metadata": {},
   "outputs": [
    {
     "data": {
      "text/plain": [
       "('rajiv', 'manisha')"
      ]
     },
     "execution_count": 13,
     "metadata": {},
     "output_type": "execute_result"
    }
   ],
   "source": [
    "#accessing values\n",
    "a[2:]"
   ]
  },
  {
   "cell_type": "code",
   "execution_count": 15,
   "id": "5bf07a41",
   "metadata": {},
   "outputs": [
    {
     "data": {
      "text/plain": [
       "True"
      ]
     },
     "execution_count": 15,
     "metadata": {},
     "output_type": "execute_result"
    }
   ],
   "source": [
    "#Membership\n",
    "\"sara\" in a"
   ]
  },
  {
   "cell_type": "code",
   "execution_count": 16,
   "id": "857bcc6b",
   "metadata": {},
   "outputs": [
    {
     "name": "stdout",
     "output_type": "stream",
     "text": [
      "sara\n",
      "kavya\n",
      "rajiv\n",
      "manisha\n"
     ]
    }
   ],
   "source": [
    "#iteration\n",
    "for i in a:\n",
    "    print(i)"
   ]
  },
  {
   "cell_type": "code",
   "execution_count": 18,
   "id": "194892c2",
   "metadata": {},
   "outputs": [],
   "source": [
    "c = 1,2,3,4"
   ]
  },
  {
   "cell_type": "code",
   "execution_count": 19,
   "id": "21632a37",
   "metadata": {},
   "outputs": [
    {
     "data": {
      "text/plain": [
       "1"
      ]
     },
     "execution_count": 19,
     "metadata": {},
     "output_type": "execute_result"
    }
   ],
   "source": [
    "min(c)"
   ]
  },
  {
   "cell_type": "code",
   "execution_count": 20,
   "id": "a40206b7",
   "metadata": {},
   "outputs": [
    {
     "data": {
      "text/plain": [
       "4"
      ]
     },
     "execution_count": 20,
     "metadata": {},
     "output_type": "execute_result"
    }
   ],
   "source": [
    "max(c)"
   ]
  },
  {
   "cell_type": "code",
   "execution_count": null,
   "id": "61f6a0ea",
   "metadata": {},
   "outputs": [],
   "source": []
  }
 ],
 "metadata": {
  "kernelspec": {
   "display_name": "Python 3 (ipykernel)",
   "language": "python",
   "name": "python3"
  },
  "language_info": {
   "codemirror_mode": {
    "name": "ipython",
    "version": 3
   },
   "file_extension": ".py",
   "mimetype": "text/x-python",
   "name": "python",
   "nbconvert_exporter": "python",
   "pygments_lexer": "ipython3",
   "version": "3.9.10"
  }
 },
 "nbformat": 4,
 "nbformat_minor": 5
}
