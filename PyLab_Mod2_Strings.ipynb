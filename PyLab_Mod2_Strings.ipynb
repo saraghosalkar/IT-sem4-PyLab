{
 "cells": [
  {
   "cell_type": "code",
   "execution_count": 27,
   "id": "00a8365b",
   "metadata": {},
   "outputs": [],
   "source": [
    "#initialization\n",
    "name = str()"
   ]
  },
  {
   "cell_type": "code",
   "execution_count": 28,
   "id": "2e940de5",
   "metadata": {},
   "outputs": [
    {
     "data": {
      "text/plain": [
       "str"
      ]
     },
     "execution_count": 28,
     "metadata": {},
     "output_type": "execute_result"
    }
   ],
   "source": [
    "#type\n",
    "type(name)"
   ]
  },
  {
   "cell_type": "code",
   "execution_count": 29,
   "id": "2774f179",
   "metadata": {},
   "outputs": [
    {
     "data": {
      "text/plain": [
       "'sara '"
      ]
     },
     "execution_count": 29,
     "metadata": {},
     "output_type": "execute_result"
    }
   ],
   "source": [
    "#Entering a string value\n",
    "name = str('sara ')\n",
    "name"
   ]
  },
  {
   "cell_type": "markdown",
   "id": "5f2cc970",
   "metadata": {},
   "source": [
    "MIN AND MAX METHODS IN STRING :\n",
    "\n",
    "The min() and max() methods can also be used to find the smallest and largest characters in a string. In this case, smallest and largest refer to the position of the character in the alphabet."
   ]
  },
  {
   "cell_type": "code",
   "execution_count": 30,
   "id": "bb417e0a",
   "metadata": {},
   "outputs": [
    {
     "data": {
      "text/plain": [
       "' '"
      ]
     },
     "execution_count": 30,
     "metadata": {},
     "output_type": "execute_result"
    }
   ],
   "source": [
    "min(name)"
   ]
  },
  {
   "cell_type": "code",
   "execution_count": 31,
   "id": "75939dce",
   "metadata": {},
   "outputs": [
    {
     "data": {
      "text/plain": [
       "'s'"
      ]
     },
     "execution_count": 31,
     "metadata": {},
     "output_type": "execute_result"
    }
   ],
   "source": [
    "max(name)"
   ]
  },
  {
   "cell_type": "code",
   "execution_count": 32,
   "id": "6be602db",
   "metadata": {},
   "outputs": [
    {
     "data": {
      "text/plain": [
       "'s'"
      ]
     },
     "execution_count": 32,
     "metadata": {},
     "output_type": "execute_result"
    }
   ],
   "source": [
    "#indexing\n",
    "name[0]"
   ]
  },
  {
   "cell_type": "code",
   "execution_count": 66,
   "id": "45d74070",
   "metadata": {},
   "outputs": [
    {
     "data": {
      "text/plain": [
       "'a'"
      ]
     },
     "execution_count": 66,
     "metadata": {},
     "output_type": "execute_result"
    }
   ],
   "source": [
    "#Negative indexing\n",
    "name[-2]"
   ]
  },
  {
   "cell_type": "code",
   "execution_count": 33,
   "id": "a53582bd",
   "metadata": {},
   "outputs": [
    {
     "data": {
      "text/plain": [
       "'a'"
      ]
     },
     "execution_count": 33,
     "metadata": {},
     "output_type": "execute_result"
    }
   ],
   "source": [
    "#indexing\n",
    "name[3]"
   ]
  },
  {
   "cell_type": "code",
   "execution_count": 34,
   "id": "bd0f63b5",
   "metadata": {},
   "outputs": [
    {
     "ename": "IndexError",
     "evalue": "string index out of range",
     "output_type": "error",
     "traceback": [
      "\u001b[0;31m---------------------------------------------------------------------------\u001b[0m",
      "\u001b[0;31mIndexError\u001b[0m                                Traceback (most recent call last)",
      "Input \u001b[0;32mIn [34]\u001b[0m, in \u001b[0;36m<module>\u001b[0;34m\u001b[0m\n\u001b[0;32m----> 1\u001b[0m \u001b[43mname\u001b[49m\u001b[43m[\u001b[49m\u001b[38;5;241;43m7\u001b[39;49m\u001b[43m]\u001b[49m\n",
      "\u001b[0;31mIndexError\u001b[0m: string index out of range"
     ]
    }
   ],
   "source": [
    "#indexing (for an index that doesn't exist)\n",
    "name[7]"
   ]
  },
  {
   "cell_type": "code",
   "execution_count": null,
   "id": "de757ee8",
   "metadata": {},
   "outputs": [],
   "source": [
    "#initialization of string\n",
    "surname = 'Ghosalkar'"
   ]
  },
  {
   "cell_type": "code",
   "execution_count": 35,
   "id": "c6b9eda6",
   "metadata": {},
   "outputs": [
    {
     "data": {
      "text/plain": [
       "str"
      ]
     },
     "execution_count": 35,
     "metadata": {},
     "output_type": "execute_result"
    }
   ],
   "source": [
    "#type\n",
    "type(surname)"
   ]
  },
  {
   "cell_type": "code",
   "execution_count": 36,
   "id": "fc4969aa",
   "metadata": {},
   "outputs": [
    {
     "data": {
      "text/plain": [
       "'sara Ghosalkar'"
      ]
     },
     "execution_count": 36,
     "metadata": {},
     "output_type": "execute_result"
    }
   ],
   "source": [
    "#concatenation\n",
    "\n",
    "name + surname"
   ]
  },
  {
   "cell_type": "code",
   "execution_count": 67,
   "id": "abb6072b",
   "metadata": {},
   "outputs": [
    {
     "data": {
      "text/plain": [
       "'Sara '"
      ]
     },
     "execution_count": 67,
     "metadata": {},
     "output_type": "execute_result"
    }
   ],
   "source": [
    "#Capitalise method\n",
    "Name = name.capitalize()\n",
    "Name"
   ]
  },
  {
   "cell_type": "code",
   "execution_count": 69,
   "id": "9f2220d6",
   "metadata": {},
   "outputs": [
    {
     "name": "stdout",
     "output_type": "stream",
     "text": [
      "sara \n"
     ]
    }
   ],
   "source": [
    "#casefolding\n",
    "print(Name.casefold())"
   ]
  },
  {
   "cell_type": "code",
   "execution_count": 71,
   "id": "10d31a6d",
   "metadata": {},
   "outputs": [
    {
     "data": {
      "text/plain": [
       "'sara sara sara sara sara sara sara sara sara sara '"
      ]
     },
     "execution_count": 71,
     "metadata": {},
     "output_type": "execute_result"
    }
   ],
   "source": [
    "#printing the string n times\n",
    "n = 10\n",
    "m = name*n\n",
    "m"
   ]
  },
  {
   "cell_type": "code",
   "execution_count": 72,
   "id": "98d4a202",
   "metadata": {},
   "outputs": [
    {
     "data": {
      "text/plain": [
       "\"A mango is a sweet tropical fruit, and it's also the name of the trees on which the fruit grows. Ripe mangoes are juicy, fleshy, and delicious. Like peaches and plums, mangoes have an inedible pit at the center. Unlike these other fruits, the skin of a mango is very tough and also inedible.\""
      ]
     },
     "execution_count": 72,
     "metadata": {},
     "output_type": "execute_result"
    }
   ],
   "source": [
    "#huge initialisation\n",
    "s = \"A mango is a sweet tropical fruit, and it's also the name of the trees on which the fruit grows. Ripe mangoes are juicy, fleshy, and delicious. Like peaches and plums, mangoes have an inedible pit at the center. Unlike these other fruits, the skin of a mango is very tough and also inedible.\"\n",
    "s"
   ]
  },
  {
   "cell_type": "code",
   "execution_count": 73,
   "id": "046320d1",
   "metadata": {},
   "outputs": [
    {
     "data": {
      "text/plain": [
       "4"
      ]
     },
     "execution_count": 73,
     "metadata": {},
     "output_type": "execute_result"
    }
   ],
   "source": [
    "#counts the number of times mango is used\n",
    "s.count('mango')"
   ]
  },
  {
   "cell_type": "code",
   "execution_count": 74,
   "id": "244bf652",
   "metadata": {},
   "outputs": [
    {
     "data": {
      "text/plain": [
       "'                      sara                        '"
      ]
     },
     "execution_count": 74,
     "metadata": {},
     "output_type": "execute_result"
    }
   ],
   "source": [
    "#Return centered in a string of length 50\n",
    "cent = name.center(50)\n",
    "cent"
   ]
  },
  {
   "cell_type": "code",
   "execution_count": 75,
   "id": "a5f497f4",
   "metadata": {},
   "outputs": [
    {
     "data": {
      "text/plain": [
       "True"
      ]
     },
     "execution_count": 75,
     "metadata": {},
     "output_type": "execute_result"
    }
   ],
   "source": [
    "#if string ends with .. \n",
    "surname.endswith('r')"
   ]
  },
  {
   "cell_type": "code",
   "execution_count": 79,
   "id": "d0188b51",
   "metadata": {},
   "outputs": [
    {
     "data": {
      "text/plain": [
       "118"
      ]
     },
     "execution_count": 79,
     "metadata": {},
     "output_type": "execute_result"
    }
   ],
   "source": [
    "#Return the lowest index in the string where the substring is found\n",
    "s.find('y')"
   ]
  },
  {
   "cell_type": "code",
   "execution_count": 80,
   "id": "0b7914ca",
   "metadata": {},
   "outputs": [
    {
     "data": {
      "text/plain": [
       "-1"
      ]
     },
     "execution_count": 80,
     "metadata": {},
     "output_type": "execute_result"
    }
   ],
   "source": [
    "#if not found, returns [-1]\n",
    "s.find('z')"
   ]
  },
  {
   "cell_type": "code",
   "execution_count": 63,
   "id": "628f3740",
   "metadata": {},
   "outputs": [
    {
     "data": {
      "text/plain": [
       "'sara'"
      ]
     },
     "execution_count": 63,
     "metadata": {},
     "output_type": "execute_result"
    }
   ],
   "source": [
    "#Return a copy of the string with the leading and trailing characters removed.\n",
    "cent.strip()"
   ]
  },
  {
   "cell_type": "code",
   "execution_count": 65,
   "id": "3122d5b5",
   "metadata": {},
   "outputs": [
    {
     "data": {
      "text/plain": [
       "'hELLO'"
      ]
     },
     "execution_count": 65,
     "metadata": {},
     "output_type": "execute_result"
    }
   ],
   "source": [
    "#swap the upper and lower cases\n",
    "hel = 'Hello'\n",
    "hel.swapcase()"
   ]
  },
  {
   "cell_type": "code",
   "execution_count": 82,
   "id": "eb531a69",
   "metadata": {},
   "outputs": [
    {
     "data": {
      "text/plain": [
       "'sara '"
      ]
     },
     "execution_count": 82,
     "metadata": {},
     "output_type": "execute_result"
    }
   ],
   "source": [
    "#String is immutable \n",
    "name"
   ]
  }
 ],
 "metadata": {
  "kernelspec": {
   "display_name": "Python 3 (ipykernel)",
   "language": "python",
   "name": "python3"
  },
  "language_info": {
   "codemirror_mode": {
    "name": "ipython",
    "version": 3
   },
   "file_extension": ".py",
   "mimetype": "text/x-python",
   "name": "python",
   "nbconvert_exporter": "python",
   "pygments_lexer": "ipython3",
   "version": "3.9.10"
  }
 },
 "nbformat": 4,
 "nbformat_minor": 5
}
