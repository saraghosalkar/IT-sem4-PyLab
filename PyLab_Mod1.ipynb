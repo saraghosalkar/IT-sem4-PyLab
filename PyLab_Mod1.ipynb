{
 "cells": [
  {
   "cell_type": "code",
   "execution_count": 1,
   "id": "04b476ff",
   "metadata": {},
   "outputs": [
    {
     "name": "stdout",
     "output_type": "stream",
     "text": [
      " *\n",
      " * *\n",
      " * * *\n",
      " * * * *\n",
      " * * * * *\n",
      " * * * *\n",
      " * * *\n",
      " * *\n",
      " *\n"
     ]
    }
   ],
   "source": [
    "#half diamond pattern\n",
    "for i in range(5):\n",
    "    for j in range(0, i + 1):\n",
    "        print(\" *\", end = \"\")\n",
    "    print()\n",
    "    \n",
    "for i in range(1, 5):\n",
    "    for j in range(i, 5):\n",
    "            print(\" *\", end = \"\")\n",
    "    print()"
   ]
  },
  {
   "cell_type": "code",
   "execution_count": 2,
   "id": "32800ed0",
   "metadata": {},
   "outputs": [
    {
     "name": "stdout",
     "output_type": "stream",
     "text": [
      "b is smaller than a\n"
     ]
    }
   ],
   "source": [
    "#basic if-else program\n",
    "a = 33\n",
    "b = 4\n",
    "if b > a:\n",
    "    print(\"b is greater than a\")\n",
    "else:\n",
    "    print(\"b is smaller than a\")"
   ]
  },
  {
   "cell_type": "code",
   "execution_count": 3,
   "id": "e1a1e73d",
   "metadata": {},
   "outputs": [
    {
     "name": "stdout",
     "output_type": "stream",
     "text": [
      "1. Add\n",
      "2. Subtract\n",
      "3. Multiply\n",
      "4. Divide\n",
      "5. Square\n",
      "6. Square Root\n",
      "7. Remainder\n",
      "Choose one option : 4\n",
      "2.5\n"
     ]
    }
   ],
   "source": [
    "#calculator using arithmetic operators\n",
    "# P.S no switch case in Py3, use if, elif, else(for default)\n",
    "a = 5\n",
    "b = 2\n",
    "print(\"1. Add\\n2. Subtract\\n3. Multiply\\n4. Divide\\n5. Square\\n6. Square Root\\n7. Remainder\")\n",
    "n = int(input(\"Choose one option : \"))\n",
    "if n==1:\n",
    "    print(a+b)\n",
    "elif n==2:\n",
    "    print(a-b)\n",
    "elif n==3:\n",
    "    print(a*b)\n",
    "elif n==4:\n",
    "    print(a/b)\n",
    "elif n==5:\n",
    "    print(a**2, b**2)\n",
    "elif n==6:\n",
    "    print(a**0.5, b**0.5)\n",
    "elif n==7:\n",
    "    print(a%b)"
   ]
  },
  {
   "cell_type": "code",
   "execution_count": 5,
   "id": "48397ff5",
   "metadata": {},
   "outputs": [
    {
     "name": "stdout",
     "output_type": "stream",
     "text": [
      "5.0\n"
     ]
    }
   ],
   "source": [
    "#Square root using math library\n",
    "import math\n",
    "print(math.sqrt(25))"
   ]
  },
  {
   "cell_type": "code",
   "execution_count": 9,
   "id": "c6d292dc",
   "metadata": {},
   "outputs": [
    {
     "name": "stdout",
     "output_type": "stream",
     "text": [
      "351\n"
     ]
    }
   ],
   "source": [
    "#generate a random number in the range 100 to 500\n",
    "import random\n",
    "print(random.randint(100,500))"
   ]
  },
  {
   "cell_type": "code",
   "execution_count": 12,
   "id": "4fa439bf",
   "metadata": {},
   "outputs": [
    {
     "name": "stdout",
     "output_type": "stream",
     "text": [
      "S\n",
      "U\n",
      "P\n",
      "E\n",
      "R\n",
      "C\n",
      "A\n",
      "L\n",
      "L\n",
      "I\n",
      "F\n",
      "R\n",
      "A\n",
      "G\n",
      "I\n",
      "L\n",
      "I\n",
      "S\n",
      "T\n",
      "I\n",
      "C\n",
      "E\n",
      "X\n",
      "P\n",
      "I\n",
      "A\n",
      "L\n",
      "I\n",
      "D\n",
      "O\n",
      "C\n",
      "I\n",
      "U\n",
      "S\n"
     ]
    }
   ],
   "source": [
    "#iterate string using for loop\n",
    "string = \"SUPERCALLIFRAGILISTICEXPIALIDOCIUS\"\n",
    "for i in string:\n",
    "    print(i)"
   ]
  },
  {
   "cell_type": "code",
   "execution_count": 2,
   "id": "b5ccb006",
   "metadata": {},
   "outputs": [
    {
     "name": "stdout",
     "output_type": "stream",
     "text": [
      "5050\n"
     ]
    }
   ],
   "source": [
    "#add natural numbers\n",
    "N = 100\n",
    "sum = 0\n",
    "i = 1\n",
    "while i <= N :\n",
    "    sum = sum + i\n",
    "    i = i + 1\n",
    "    \n",
    "print(sum)"
   ]
  },
  {
   "cell_type": "code",
   "execution_count": 6,
   "id": "9737a434",
   "metadata": {},
   "outputs": [
    {
     "name": "stdout",
     "output_type": "stream",
     "text": [
      "Enter a number : 43\n",
      "This is not my number.\n",
      "My number is greater !\n",
      "My number is even, bro.\n"
     ]
    }
   ],
   "source": [
    "#Relational Operators\n",
    "n = int(input(\"Enter a number : \"))\n",
    "if n == 56:\n",
    "    print(\"This is my number.\")\n",
    "elif n != 56: \n",
    "    print(\"This is not my number.\")\n",
    "    if n > 56:\n",
    "        print(\"My number is smaller !\")\n",
    "    elif n < 56:\n",
    "        print(\"My number is greater !\")\n",
    "if n%2==0 and n!=56:\n",
    "    print(\"My number is even too !\")\n",
    "elif n%2!=0 and n!=56:\n",
    "    print(\"My number is even, bro.\")\n",
    "    "
   ]
  },
  {
   "cell_type": "code",
   "execution_count": 46,
   "id": "a9e8d59a",
   "metadata": {},
   "outputs": [
    {
     "data": {
      "text/plain": [
       "255"
      ]
     },
     "execution_count": 46,
     "metadata": {},
     "output_type": "execute_result"
    }
   ],
   "source": [
    "# binary to decimal\n",
    "\n",
    "a = 0b11111111\n",
    "a"
   ]
  },
  {
   "cell_type": "code",
   "execution_count": 31,
   "id": "a9ac54b5",
   "metadata": {},
   "outputs": [
    {
     "name": "stdout",
     "output_type": "stream",
     "text": [
      "15\n"
     ]
    }
   ],
   "source": [
    "# Octal to decimal\n",
    "\n",
    "a = 0o17\n",
    "print(a)"
   ]
  },
  {
   "cell_type": "code",
   "execution_count": 35,
   "id": "5b884658",
   "metadata": {},
   "outputs": [
    {
     "name": "stdout",
     "output_type": "stream",
     "text": [
      "132\n"
     ]
    }
   ],
   "source": [
    "# binary to decimal\n",
    "a = 0b10000100\n",
    "print(a)"
   ]
  },
  {
   "cell_type": "code",
   "execution_count": 41,
   "id": "c7db2a3f",
   "metadata": {},
   "outputs": [
    {
     "data": {
      "text/plain": [
       "'0b10000100'"
      ]
     },
     "execution_count": 41,
     "metadata": {},
     "output_type": "execute_result"
    }
   ],
   "source": [
    "# decimal to binary\n",
    "\n",
    "a = 132\n",
    "bin(a)"
   ]
  },
  {
   "cell_type": "code",
   "execution_count": 42,
   "id": "20ff6c36",
   "metadata": {},
   "outputs": [
    {
     "ename": "SyntaxError",
     "evalue": "invalid digit '9' in octal literal (776241606.py, line 1)",
     "output_type": "error",
     "traceback": [
      "\u001b[0;36m  Input \u001b[0;32mIn [42]\u001b[0;36m\u001b[0m\n\u001b[0;31m    a = 0o1119\u001b[0m\n\u001b[0m             ^\u001b[0m\n\u001b[0;31mSyntaxError\u001b[0m\u001b[0;31m:\u001b[0m invalid digit '9' in octal literal\n"
     ]
    }
   ],
   "source": [
    "# Octal to decimal\n",
    "\n",
    "a = 0o1119\n",
    "a"
   ]
  },
  {
   "cell_type": "code",
   "execution_count": 44,
   "id": "c5b745a3",
   "metadata": {},
   "outputs": [
    {
     "data": {
      "text/plain": [
       "15"
      ]
     },
     "execution_count": 44,
     "metadata": {},
     "output_type": "execute_result"
    }
   ],
   "source": [
    "# binary to decimal\n",
    "a = 0b00001111\n",
    "a"
   ]
  },
  {
   "cell_type": "code",
   "execution_count": 48,
   "id": "867529fb",
   "metadata": {},
   "outputs": [
    {
     "data": {
      "text/plain": [
       "79"
      ]
     },
     "execution_count": 48,
     "metadata": {},
     "output_type": "execute_result"
    }
   ],
   "source": [
    "# Octal to decimal\n",
    "a = 0o117\n",
    "a"
   ]
  },
  {
   "cell_type": "code",
   "execution_count": 49,
   "id": "acdce0ff",
   "metadata": {},
   "outputs": [
    {
     "data": {
      "text/plain": [
       "'0o117'"
      ]
     },
     "execution_count": 49,
     "metadata": {},
     "output_type": "execute_result"
    }
   ],
   "source": [
    "# decimal to Octal \n",
    "a = 79\n",
    "b = oct(a)\n",
    "b"
   ]
  },
  {
   "cell_type": "code",
   "execution_count": 50,
   "id": "fbd1748d",
   "metadata": {},
   "outputs": [
    {
     "data": {
      "text/plain": [
       "15"
      ]
     },
     "execution_count": 50,
     "metadata": {},
     "output_type": "execute_result"
    }
   ],
   "source": [
    "# hex to decimal\n",
    "\n",
    "a = 0x0f\n",
    "int(a)"
   ]
  },
  {
   "cell_type": "code",
   "execution_count": 54,
   "id": "6046b705",
   "metadata": {},
   "outputs": [
    {
     "data": {
      "text/plain": [
       "255"
      ]
     },
     "execution_count": 54,
     "metadata": {},
     "output_type": "execute_result"
    }
   ],
   "source": [
    "# hex to decimal\n",
    "a = 0xff\n",
    "int(a)"
   ]
  },
  {
   "cell_type": "code",
   "execution_count": 56,
   "id": "845d7369",
   "metadata": {},
   "outputs": [
    {
     "data": {
      "text/plain": [
       "'0b10101010'"
      ]
     },
     "execution_count": 56,
     "metadata": {},
     "output_type": "execute_result"
    }
   ],
   "source": [
    "# hex to decimal or binary\n",
    "a = 0xaa\n",
    "int(a)\n",
    "bin(a)"
   ]
  },
  {
   "cell_type": "code",
   "execution_count": 57,
   "id": "e0308af5",
   "metadata": {},
   "outputs": [
    {
     "data": {
      "text/plain": [
       "(7+9j)"
      ]
     },
     "execution_count": 57,
     "metadata": {},
     "output_type": "execute_result"
    }
   ],
   "source": [
    "# add complex nos\n",
    "a = 2 + 3j\n",
    "b = 5 + 6j \n",
    "a+b"
   ]
  },
  {
   "cell_type": "code",
   "execution_count": null,
   "id": "59a5f4cd",
   "metadata": {},
   "outputs": [],
   "source": []
  }
 ],
 "metadata": {
  "kernelspec": {
   "display_name": "Python 3 (ipykernel)",
   "language": "python",
   "name": "python3"
  },
  "language_info": {
   "codemirror_mode": {
    "name": "ipython",
    "version": 3
   },
   "file_extension": ".py",
   "mimetype": "text/x-python",
   "name": "python",
   "nbconvert_exporter": "python",
   "pygments_lexer": "ipython3",
   "version": "3.9.10"
  }
 },
 "nbformat": 4,
 "nbformat_minor": 5
}
