{
 "cells": [
  {
   "cell_type": "markdown",
   "id": "fd477f24",
   "metadata": {},
   "source": [
    "# Data manipulation and analysis using Pandas"
   ]
  },
  {
   "cell_type": "markdown",
   "id": "00ec49c9",
   "metadata": {},
   "source": [
    "#### Syllabus : \n",
    " Introduction to Pandas, importing data into Python, series, data frames, indexing data frames, basic operations with data frame, filtering, combining and merging data frames, Removing Duplicates. "
   ]
  },
  {
   "cell_type": "markdown",
   "id": "b13d6150",
   "metadata": {},
   "source": [
    "### Introduction to Pandas : "
   ]
  },
  {
   "cell_type": "markdown",
   "id": "8df65990",
   "metadata": {},
   "source": [
    "#### What is Pandas?\n",
    "\n",
    "Pandas is a Python library. <br>\n",
    "It was created in 2008. <br>\n",
    "It is used to analyse data from data sets. <br>\n",
    "\n",
    "#### Why Pandas?\n",
    "\n",
    "Pandas allows us to analyze big data and make conclusions based on statistical theories.<br>\n",
    "Pandas can clean messy data sets, and make them readable.\n",
    "\n",
    "#### End-product of using Pandas : \n",
    "It gives answers to questions like : <br>\n",
    "1) Is there a correlation between two or more columns? <br>\n",
    "2) average value? <br>\n",
    "3) Max value <br>\n",
    "4) Min value <br>\n",
    "\n",
    "#### What is \"Cleaning Data\" ? \n",
    "\n",
    "Pandas are also able to delete rows that are not relevant, or contains wrong values, like empty or NULL values. This is called cleaning the data.\n"
   ]
  },
  {
   "cell_type": "markdown",
   "id": "74051949",
   "metadata": {},
   "source": [
    "### DOWNLOAD PANDAS\n",
    "\n",
    "### IMPORT PANDAS AND NUMPY"
   ]
  },
  {
   "cell_type": "code",
   "execution_count": 20,
   "metadata": {},
   "outputs": [],
   "source": [
    "import pandas as pd\n",
    "import numpy as np"
   ]
  },
  {
   "cell_type": "code",
   "execution_count": 21,
   "id": "25e8f703",
   "metadata": {},
   "outputs": [
    {
     "data": {
      "text/plain": [
       "'1.3.5'"
      ]
     },
     "execution_count": 21,
     "metadata": {},
     "output_type": "execute_result"
    }
   ],
   "source": [
    "pd.__version__"
   ]
  },
  {
   "cell_type": "markdown",
   "id": "5ad6a4db",
   "metadata": {},
   "source": [
    "### DATA STRUCTURES IN PANDAS"
   ]
  },
  {
   "cell_type": "markdown",
   "id": "1f7ef9be",
   "metadata": {},
   "source": [
    "## Series"
   ]
  },
  {
   "cell_type": "markdown",
   "id": "2d8729df",
   "metadata": {},
   "source": [
    "Series is an 1-D Array<br>\n",
    "It has data of any type. <br>(Integers, strings, floating point numbers, Python objects, etc.)"
   ]
  },
  {
   "cell_type": "code",
   "execution_count": 30,
   "id": "ebb909c5",
   "metadata": {},
   "outputs": [
    {
     "name": "stdout",
     "output_type": "stream",
     "text": [
      "0    2\n",
      "1    3\n",
      "2    5\n",
      "3    7\n",
      "dtype: int64\n"
     ]
    }
   ],
   "source": [
    "a = [2,3,5,7]\n",
    "p = pd.Series(a)\n",
    "print(p)"
   ]
  },
  {
   "cell_type": "code",
   "execution_count": 31,
   "id": "722669c3",
   "metadata": {},
   "outputs": [
    {
     "name": "stdout",
     "output_type": "stream",
     "text": [
      "a    2\n",
      "b    3\n",
      "c    5\n",
      "d    7\n",
      "dtype: int64\n"
     ]
    }
   ],
   "source": [
    "a = [2,3,5,7]\n",
    "p = pd.Series(a, index = [\"a\",\"b\",\"c\",\"d\"])\n",
    "print(p)"
   ]
  },
  {
   "cell_type": "code",
   "execution_count": 34,
   "id": "5ec94fff",
   "metadata": {},
   "outputs": [
    {
     "name": "stdout",
     "output_type": "stream",
     "text": [
      "2\n"
     ]
    }
   ],
   "source": [
    "print(p[0])"
   ]
  },
  {
   "cell_type": "code",
   "execution_count": 35,
   "id": "5a810a93",
   "metadata": {},
   "outputs": [
    {
     "name": "stdout",
     "output_type": "stream",
     "text": [
      "2\n"
     ]
    }
   ],
   "source": [
    "print(p[\"a\"])"
   ]
  },
  {
   "cell_type": "code",
   "execution_count": 37,
   "id": "2b93c170",
   "metadata": {},
   "outputs": [
    {
     "data": {
      "text/plain": [
       "day1    420\n",
       "day2    380\n",
       "day3    390\n",
       "dtype: int64"
      ]
     },
     "execution_count": 37,
     "metadata": {},
     "output_type": "execute_result"
    }
   ],
   "source": [
    "calories = {\"day1\": 420, \"day2\": 380, \"day3\": 390}\n",
    "\n",
    "myvar = pd.Series(calories)\n",
    "myvar"
   ]
  },
  {
   "cell_type": "code",
   "execution_count": 38,
   "id": "b9794447",
   "metadata": {},
   "outputs": [
    {
     "name": "stdout",
     "output_type": "stream",
     "text": [
      "day1    420\n",
      "day2    380\n",
      "dtype: int64\n"
     ]
    }
   ],
   "source": [
    "myvar = pd.Series(calories, index = [\"day1\", \"day2\"])\n",
    "\n",
    "print(myvar)"
   ]
  },
  {
   "cell_type": "markdown",
   "id": "55937389",
   "metadata": {},
   "source": [
    "## Data frames"
   ]
  },
  {
   "cell_type": "code",
   "execution_count": 22,
   "id": "436d64a0",
   "metadata": {},
   "outputs": [],
   "source": [
    "menu = {\n",
    "  'food': [\"Burger\", \"Fries\", \"Coke\"],\n",
    "  'quantity': [2, 3, 1]\n",
    "}\n",
    "\n",
    "x = pd.DataFrame(menu)"
   ]
  },
  {
   "cell_type": "code",
   "execution_count": 23,
   "id": "c9b3b4bc",
   "metadata": {},
   "outputs": [
    {
     "data": {
      "text/html": [
       "<div>\n",
       "<style scoped>\n",
       "    .dataframe tbody tr th:only-of-type {\n",
       "        vertical-align: middle;\n",
       "    }\n",
       "\n",
       "    .dataframe tbody tr th {\n",
       "        vertical-align: top;\n",
       "    }\n",
       "\n",
       "    .dataframe thead th {\n",
       "        text-align: right;\n",
       "    }\n",
       "</style>\n",
       "<table border=\"1\" class=\"dataframe\">\n",
       "  <thead>\n",
       "    <tr style=\"text-align: right;\">\n",
       "      <th></th>\n",
       "      <th>food</th>\n",
       "      <th>quantity</th>\n",
       "    </tr>\n",
       "  </thead>\n",
       "  <tbody>\n",
       "    <tr>\n",
       "      <th>0</th>\n",
       "      <td>Burger</td>\n",
       "      <td>2</td>\n",
       "    </tr>\n",
       "    <tr>\n",
       "      <th>1</th>\n",
       "      <td>Fries</td>\n",
       "      <td>3</td>\n",
       "    </tr>\n",
       "    <tr>\n",
       "      <th>2</th>\n",
       "      <td>Coke</td>\n",
       "      <td>1</td>\n",
       "    </tr>\n",
       "  </tbody>\n",
       "</table>\n",
       "</div>"
      ],
      "text/plain": [
       "     food  quantity\n",
       "0  Burger         2\n",
       "1   Fries         3\n",
       "2    Coke         1"
      ]
     },
     "execution_count": 23,
     "metadata": {},
     "output_type": "execute_result"
    }
   ],
   "source": [
    "x"
   ]
  },
  {
   "cell_type": "code",
   "execution_count": 25,
   "id": "e1c6943d",
   "metadata": {},
   "outputs": [
    {
     "name": "stdout",
     "output_type": "stream",
     "text": [
      "food        Burger\n",
      "quantity         2\n",
      "Name: 0, dtype: object\n"
     ]
    }
   ],
   "source": [
    "print(x.loc[0])"
   ]
  },
  {
   "cell_type": "markdown",
   "id": "9d244fdd",
   "metadata": {},
   "source": [
    "## Indexing data frames"
   ]
  },
  {
   "cell_type": "markdown",
   "id": "9cbbba71",
   "metadata": {},
   "source": [
    "## Basic operations with data frame"
   ]
  },
  {
   "cell_type": "markdown",
   "id": "ef9437f0",
   "metadata": {},
   "source": [
    "## Filtering data frames"
   ]
  },
  {
   "cell_type": "markdown",
   "id": "e54cbe0b",
   "metadata": {},
   "source": [
    "## Combining data frames"
   ]
  },
  {
   "cell_type": "code",
   "execution_count": null,
   "id": "1fddb053",
   "metadata": {},
   "outputs": [],
   "source": []
  },
  {
   "cell_type": "markdown",
   "id": "6a827665",
   "metadata": {},
   "source": [
    "## Merging data frames"
   ]
  },
  {
   "cell_type": "markdown",
   "id": "31085bb0",
   "metadata": {},
   "source": [
    "## Removing duplicates"
   ]
  },
  {
   "cell_type": "code",
   "execution_count": 43,
   "id": "0e250f21",
   "metadata": {},
   "outputs": [
    {
     "data": {
      "image/png": "[encoded data removed]",
      "text/plain": [
       "<Figure size 432x288 with 1 Axes>"
      ]
     },
     "metadata": {
      "needs_background": "light"
     },
     "output_type": "display_data"
    }
   ],
   "source": [
    "import matplotlib.pyplot as plt\n",
    "\n",
    "df = pd.read_csv('student.csv')\n",
    "\n",
    "df.plot()\n",
    "\n",
    "plt.show()"
   ]
  },
  {
   "cell_type": "code",
   "execution_count": null,
   "id": "0fded54e",
   "metadata": {},
   "outputs": [],
   "source": []
  }
 ],
 "metadata": {
  "interpreter": {
   "hash": "aee8b7b246df8f9039afb4144a1f6fd8d2ca17a180786b69acc140d282b71a49"
  },
  "kernelspec": {
   "display_name": "Python 3.10.1 64-bit",
   "language": "python",
   "name": "python3"
  },
  "language_info": {
   "codemirror_mode": {
    "name": "ipython",
    "version": 3
   },
   "file_extension": ".py",
   "mimetype": "text/x-python",
   "name": "python",
   "nbconvert_exporter": "python",
   "pygments_lexer": "ipython3",
   "version": "3.10.1"
  }
 },
 "nbformat": 4,
 "nbformat_minor": 5
}
