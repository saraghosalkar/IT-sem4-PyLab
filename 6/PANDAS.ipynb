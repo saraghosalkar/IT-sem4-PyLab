{
 "cells": [
  {
   "cell_type": "markdown",
   "id": "fd477f24",
   "metadata": {},
   "source": [
    "# Data manipulation and analysis using Pandas"
   ]
  },
  {
   "cell_type": "markdown",
   "id": "00ec49c9",
   "metadata": {},
   "source": [
    "#### Syllabus : \n",
    " Introduction to Pandas, importing data into Python, series, data frames, indexing data frames, basic operations with data frame, filtering, combining and merging data frames, Removing Duplicates. "
   ]
  },
  {
   "cell_type": "markdown",
   "id": "b13d6150",
   "metadata": {},
   "source": [
    "### Introduction to Pandas : "
   ]
  },
  {
   "cell_type": "markdown",
   "id": "8df65990",
   "metadata": {},
   "source": [
    "#### What is Pandas?\n",
    "\n",
    "Pandas is a Python library. <br>\n",
    "It was created in 2008. <br>\n",
    "It is used to analyse data from data sets. <br>\n",
    "\n",
    "#### Why Pandas?\n",
    "\n",
    "Pandas allows us to analyze big data and make conclusions based on statistical theories.\n",
    "Pandas can clean messy data sets, and make them readable.\n",
    "\n",
    "#### End-product of using Pandas : \n",
    "\n",
    "It gives answers to questions like : <br>\n",
    "1) Is there a correlation between two or more columns? <br>\n",
    "2) average value? <br>\n",
    "3) Max value <br>\n",
    "4) Min value <br>\n",
    "\n",
    "#### What is \"Cleaning Data\" ? \n",
    "\n",
    "Pandas are also able to delete rows that are not relevant, or contains wrong values, like empty or NULL values. This is called cleaning the data.\n"
   ]
  },
  {
   "cell_type": "markdown",
   "id": "1f7ef9be",
   "metadata": {},
   "source": [
    "## Series"
   ]
  },
  {
   "cell_type": "code",
   "execution_count": null,
   "id": "436d64a0",
   "metadata": {},
   "outputs": [],
   "source": []
  },
  {
   "cell_type": "markdown",
   "id": "55937389",
   "metadata": {},
   "source": [
    "## Data frames"
   ]
  },
  {
   "cell_type": "markdown",
   "id": "9d244fdd",
   "metadata": {},
   "source": [
    "## Indexing data frames"
   ]
  },
  {
   "cell_type": "markdown",
   "id": "9cbbba71",
   "metadata": {},
   "source": [
    "## Basic operations with data frame"
   ]
  },
  {
   "cell_type": "markdown",
   "id": "ef9437f0",
   "metadata": {},
   "source": [
    "## Filtering data frames"
   ]
  },
  {
   "cell_type": "markdown",
   "id": "e54cbe0b",
   "metadata": {},
   "source": [
    "## Combining data frames"
   ]
  },
  {
   "cell_type": "markdown",
   "id": "6a827665",
   "metadata": {},
   "source": [
    "## Merging data frames"
   ]
  },
  {
   "cell_type": "markdown",
   "id": "31085bb0",
   "metadata": {},
   "source": [
    "## Removing duplicates"
   ]
  },
  {
   "cell_type": "code",
   "execution_count": null,
   "id": "0e250f21",
   "metadata": {},
   "outputs": [],
   "source": []
  }
 ],
 "metadata": {
  "kernelspec": {
   "display_name": "Python 3.10.1 64-bit",
   "language": "python",
   "name": "python3101jvsc74a57bd0aee8b7b246df8f9039afb4144a1f6fd8d2ca17a180786b69acc140d282b71a49"
  },
  "language_info": {
   "codemirror_mode": {
    "name": "ipython",
    "version": 3
   },
   "file_extension": ".py",
   "mimetype": "text/x-python",
   "name": "python",
   "nbconvert_exporter": "python",
   "pygments_lexer": "ipython3",
   "version": "3.10.1"
  }
 },
 "nbformat": 4,
 "nbformat_minor": 5
}
