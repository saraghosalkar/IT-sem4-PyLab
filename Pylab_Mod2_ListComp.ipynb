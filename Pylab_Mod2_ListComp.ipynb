{
 "cells": [
  {
   "cell_type": "markdown",
   "id": "781d8113",
   "metadata": {},
   "source": [
    "List Comprehension is an elegant way to define and create lists based on existing lists.\n",
    "\n",
    "-It is generally more compact and faster than normal functions and loops for creating lists. \n",
    "\n",
    "-It is a process of creating new sequences from existing sequences. "
   ]
  },
  {
   "cell_type": "markdown",
   "id": "6ba9dfb2",
   "metadata": {},
   "source": [
    "Syntax : \n",
    "\n",
    "[expression for item in list]"
   ]
  },
  {
   "cell_type": "code",
   "execution_count": 1,
   "id": "e4200fc2",
   "metadata": {},
   "outputs": [
    {
     "data": {
      "text/plain": [
       "[0, 1, 4, 9, 16, 25, 36, 49, 64, 81, 100]"
      ]
     },
     "execution_count": 1,
     "metadata": {},
     "output_type": "execute_result"
    }
   ],
   "source": [
    "squares = []\n",
    "for i in range(11):\n",
    "    squares.append(i*i)\n",
    "squares"
   ]
  },
  {
   "cell_type": "code",
   "execution_count": 4,
   "id": "885370bc",
   "metadata": {},
   "outputs": [
    {
     "data": {
      "text/plain": [
       "[0, 2, 4, 6, 8, 10]"
      ]
     },
     "execution_count": 4,
     "metadata": {},
     "output_type": "execute_result"
    }
   ],
   "source": [
    "s = [i for i in range (11) if i%2 == 0]\n",
    "s"
   ]
  },
  {
   "cell_type": "code",
   "execution_count": 5,
   "id": "bb4c750a",
   "metadata": {},
   "outputs": [
    {
     "data": {
      "text/plain": [
       "[0, 4, 16, 36, 64, 100]"
      ]
     },
     "execution_count": 5,
     "metadata": {},
     "output_type": "execute_result"
    }
   ],
   "source": [
    "sq = [i**2 for i in range (11) if i%2 == 0]\n",
    "sq"
   ]
  },
  {
   "cell_type": "code",
   "execution_count": 6,
   "id": "0303e9a8",
   "metadata": {},
   "outputs": [
    {
     "data": {
      "text/plain": [
       "[(0, 0, 0),\n",
       " (2, 4, 8),\n",
       " (4, 16, 64),\n",
       " (6, 36, 216),\n",
       " (8, 64, 512),\n",
       " (10, 100, 1000)]"
      ]
     },
     "execution_count": 6,
     "metadata": {},
     "output_type": "execute_result"
    }
   ],
   "source": [
    "sa = [(i,i**2,i**3) for i in range (11) if i%2 == 0]\n",
    "sa"
   ]
  },
  {
   "cell_type": "code",
   "execution_count": 7,
   "id": "3220c37d",
   "metadata": {},
   "outputs": [
    {
     "data": {
      "text/plain": [
       "[0, 10, 20, 30, 40, 50, 60, 70, 80, 90]"
      ]
     },
     "execution_count": 7,
     "metadata": {},
     "output_type": "execute_result"
    }
   ],
   "source": [
    "#print elements in range(100) which are divisible by 2 and 5\n",
    "a = [i for i in range (100) if i%2==0 and i%5==0]\n",
    "a"
   ]
  },
  {
   "cell_type": "code",
   "execution_count": 12,
   "id": "5ef82a15",
   "metadata": {},
   "outputs": [
    {
     "data": {
      "text/plain": [
       "[0,\n",
       " 2,\n",
       " 4,\n",
       " 5,\n",
       " 6,\n",
       " 8,\n",
       " 10,\n",
       " 12,\n",
       " 14,\n",
       " 15,\n",
       " 16,\n",
       " 18,\n",
       " 20,\n",
       " 22,\n",
       " 24,\n",
       " 25,\n",
       " 26,\n",
       " 28,\n",
       " 30,\n",
       " 32,\n",
       " 34,\n",
       " 35,\n",
       " 36,\n",
       " 38,\n",
       " 40,\n",
       " 42,\n",
       " 44,\n",
       " 45,\n",
       " 46,\n",
       " 48,\n",
       " 50,\n",
       " 52,\n",
       " 54,\n",
       " 55,\n",
       " 56,\n",
       " 58,\n",
       " 60,\n",
       " 62,\n",
       " 64,\n",
       " 65,\n",
       " 66,\n",
       " 68,\n",
       " 70,\n",
       " 72,\n",
       " 74,\n",
       " 75,\n",
       " 76,\n",
       " 78,\n",
       " 80,\n",
       " 82,\n",
       " 84,\n",
       " 85,\n",
       " 86,\n",
       " 88,\n",
       " 90,\n",
       " 92,\n",
       " 94,\n",
       " 95,\n",
       " 96,\n",
       " 98]"
      ]
     },
     "execution_count": 12,
     "metadata": {},
     "output_type": "execute_result"
    }
   ],
   "source": [
    "#print elements in range(100) which are divisible by 2 or 5\n",
    "a = [i for i in range (100) if i%2==0 or i%5==0]\n",
    "a"
   ]
  },
  {
   "cell_type": "code",
   "execution_count": 46,
   "id": "a4a313c0",
   "metadata": {},
   "outputs": [
    {
     "data": {
      "text/plain": [
       "['Even', 'Odd', 'Even', 'Odd', 'Even', 'Odd', 'Even', 'Odd', 'Even', 'Odd']"
      ]
     },
     "execution_count": 46,
     "metadata": {},
     "output_type": "execute_result"
    }
   ],
   "source": [
    "#determine if elements in range(10) are even or odd\n",
    "obj = [\"Even\" if i%2 == 0 else \"Odd\" for i in range(10)]\n",
    "obj"
   ]
  },
  {
   "cell_type": "code",
   "execution_count": 45,
   "id": "c90fd378",
   "metadata": {},
   "outputs": [
    {
     "data": {
      "text/plain": [
       "[0, 2, 4, 6, 8, 10]"
      ]
     },
     "execution_count": 45,
     "metadata": {},
     "output_type": "execute_result"
    }
   ],
   "source": [
    "s"
   ]
  },
  {
   "cell_type": "code",
   "execution_count": 44,
   "id": "526c51d8",
   "metadata": {},
   "outputs": [
    {
     "data": {
      "text/plain": [
       "['Even', 'Even', 'Even', 'Even', 'Even', 'Even']"
      ]
     },
     "execution_count": 44,
     "metadata": {},
     "output_type": "execute_result"
    }
   ],
   "source": [
    "#determine if elements in list s are even or odd\n",
    "second = [\"Even\" if i%2 == 0 else \"Odd\" for i in s]\n",
    "second"
   ]
  },
  {
   "cell_type": "code",
   "execution_count": 31,
   "id": "2660e6ab",
   "metadata": {},
   "outputs": [
    {
     "data": {
      "text/plain": [
       "['Vaidehi', 'Rajiv', 'Manisha', 'Sara', 'Kavya']"
      ]
     },
     "execution_count": 31,
     "metadata": {},
     "output_type": "execute_result"
    }
   ],
   "source": [
    "#print elements in family which have letter a\n",
    "family = [\"Vaidehi\", \"Rajiv\", \"Manisha\", \"Sara\", \"Kavya\"]\n",
    "newlist = [x for x in family if \"a\" in x]\n",
    "newlist"
   ]
  },
  {
   "cell_type": "code",
   "execution_count": 32,
   "id": "ad5acfe5",
   "metadata": {},
   "outputs": [
    {
     "data": {
      "text/plain": [
       "[]"
      ]
     },
     "execution_count": 32,
     "metadata": {},
     "output_type": "execute_result"
    }
   ],
   "source": [
    "#print elements in family which do not have letter a\n",
    "newlist = [x for x in family if \"a\" not in x]\n",
    "newlist"
   ]
  },
  {
   "cell_type": "code",
   "execution_count": 34,
   "id": "27f63edf",
   "metadata": {},
   "outputs": [
    {
     "data": {
      "text/plain": [
       "['Vaidehi', 'Rajiv', 'Manisha', 'Kavya']"
      ]
     },
     "execution_count": 34,
     "metadata": {},
     "output_type": "execute_result"
    }
   ],
   "source": [
    "#print strings in list family if they aren't \"Sara\"\n",
    "newlist = [x for x in family if x!= \"Sara\"]\n",
    "newlist"
   ]
  },
  {
   "cell_type": "code",
   "execution_count": 35,
   "id": "a51921b0",
   "metadata": {},
   "outputs": [
    {
     "data": {
      "text/plain": [
       "['Vaidehi', 'Rajiv', 'Manisha', 'Sara', 'Kavya']"
      ]
     },
     "execution_count": 35,
     "metadata": {},
     "output_type": "execute_result"
    }
   ],
   "source": [
    "#to prove that \"sara\" is not the same as \"Sara\"\n",
    "\n",
    "newlist = [x for x in family if x!= \"sara\"]\n",
    "newlist"
   ]
  },
  {
   "cell_type": "code",
   "execution_count": 42,
   "id": "b1e1ead0",
   "metadata": {},
   "outputs": [
    {
     "data": {
      "text/plain": [
       "['vaidehi', 'rajiv', 'manisha', 'sara', 'kavya']"
      ]
     },
     "execution_count": 42,
     "metadata": {},
     "output_type": "execute_result"
    }
   ],
   "source": [
    "#Lowercase conversion of string elements in list family\n",
    "newlist = [x.lower() for x in family]\n",
    "newlist"
   ]
  },
  {
   "cell_type": "code",
   "execution_count": 43,
   "id": "05d146b5",
   "metadata": {},
   "outputs": [
    {
     "data": {
      "text/plain": [
       "['VAIDEHI', 'RAJIV', 'MANISHA', 'SARA', 'KAVYA']"
      ]
     },
     "execution_count": 43,
     "metadata": {},
     "output_type": "execute_result"
    }
   ],
   "source": [
    "#Uppercase conversion of string elements in list family\n",
    "\n",
    "newlist = [x.upper() for x in family]\n",
    "newlist"
   ]
  },
  {
   "cell_type": "code",
   "execution_count": 39,
   "id": "afcbb7b3",
   "metadata": {},
   "outputs": [
    {
     "data": {
      "text/plain": [
       "[1, 2, 0, 1, 2, 0, 1, 2, 0, 1]"
      ]
     },
     "execution_count": 39,
     "metadata": {},
     "output_type": "execute_result"
    }
   ],
   "source": [
    "#modulus of elements in list c (range 11)\n",
    "\n",
    "c = [1,2,3,4,5,6,7,8,9,10]\n",
    "c1 = [x%3 for x in c]\n",
    "c1"
   ]
  },
  {
   "cell_type": "code",
   "execution_count": 40,
   "id": "ea98a011",
   "metadata": {},
   "outputs": [
    {
     "data": {
      "text/plain": [
       "[[0, 1, 2, 3, 4], [0, 1, 2, 3, 4], [0, 1, 2, 3, 4]]"
      ]
     },
     "execution_count": 40,
     "metadata": {},
     "output_type": "execute_result"
    }
   ],
   "source": [
    "#create a matrix\n",
    "\n",
    "matrix = [[j for j in range (5)] for i in range (3)]\n",
    "matrix"
   ]
  },
  {
   "cell_type": "code",
   "execution_count": 41,
   "id": "127860c3",
   "metadata": {},
   "outputs": [
    {
     "data": {
      "text/plain": [
       "['skeeG', 'rof', 'skeeG']"
      ]
     },
     "execution_count": 41,
     "metadata": {},
     "output_type": "execute_result"
    }
   ],
   "source": [
    "#reverse a string\n",
    "\n",
    "list1 = [string[::-1] for string in ('Geeks','for','Geeks')]\n",
    "list1"
   ]
  },
  {
   "cell_type": "code",
   "execution_count": 47,
   "id": "766a60b2",
   "metadata": {},
   "outputs": [
    {
     "data": {
      "text/plain": [
       "[1, 2, 3, 4, 6]"
      ]
     },
     "execution_count": 47,
     "metadata": {},
     "output_type": "execute_result"
    }
   ],
   "source": [
    "#convert float values in list a2 to int values in list a3\n",
    "a2 = [1.5,2.5,3.6, 4.1,6.0]\n",
    "a3 = [int(x) for x in a2]\n",
    "a3"
   ]
  },
  {
   "cell_type": "code",
   "execution_count": 54,
   "id": "82ee57b5",
   "metadata": {},
   "outputs": [
    {
     "data": {
      "text/plain": [
       "6"
      ]
     },
     "execution_count": 54,
     "metadata": {},
     "output_type": "execute_result"
    }
   ],
   "source": [
    "a4 = [1,2,3,4,5]\n",
    "a5 = [i for i in a4 if i%2==0]\n",
    "total = 0\n",
    "for i in a5:\n",
    "    total = total + i\n",
    "total"
   ]
  },
  {
   "cell_type": "code",
   "execution_count": 51,
   "id": "cf708887",
   "metadata": {},
   "outputs": [
    {
     "data": {
      "text/plain": [
       "['0b1100101',\n",
       " '0b11001010',\n",
       " '0b100101111',\n",
       " '0b110010100',\n",
       " '0b111111001',\n",
       " '0b1001011110']"
      ]
     },
     "execution_count": 51,
     "metadata": {},
     "output_type": "execute_result"
    }
   ],
   "source": [
    "a6 = [101,202,303,404,505,606]\n",
    "a7 = [bin(i) for i in a6]\n",
    "a7"
   ]
  }
 ],
 "metadata": {
  "kernelspec": {
   "display_name": "Python 3 (ipykernel)",
   "language": "python",
   "name": "python3"
  },
  "language_info": {
   "codemirror_mode": {
    "name": "ipython",
    "version": 3
   },
   "file_extension": ".py",
   "mimetype": "text/x-python",
   "name": "python",
   "nbconvert_exporter": "python",
   "pygments_lexer": "ipython3",
   "version": "3.9.10"
  }
 },
 "nbformat": 4,
 "nbformat_minor": 5
}
